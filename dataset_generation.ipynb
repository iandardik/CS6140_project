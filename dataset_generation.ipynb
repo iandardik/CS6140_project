{
 "cells": [
  {
   "cell_type": "code",
   "execution_count": 196,
   "id": "falling-franklin",
   "metadata": {},
   "outputs": [],
   "source": [
    "import random\n",
    "import numpy as np\n",
    "from pandas import DataFrame as df\n",
    "import math\n",
    "import pandas as pd"
   ]
  },
  {
   "cell_type": "code",
   "execution_count": 197,
   "id": "photographic-senate",
   "metadata": {},
   "outputs": [],
   "source": [
    "def Jan(month):\n",
    "    if month == 'Jan':\n",
    "        return 1\n",
    "    else:\n",
    "        return 0\n",
    "def Feb(month):\n",
    "    if month == 'Feb':\n",
    "        return 1\n",
    "    else:\n",
    "        return 0\n",
    "def Mar(month):\n",
    "    if month == 'Mar':\n",
    "        return 1\n",
    "    else:\n",
    "        return 0\n",
    "def Apr(month):\n",
    "    if month == 'Apr':\n",
    "        return 1\n",
    "    else:\n",
    "        return 0\n",
    "def May(month):\n",
    "    if month == 'May':\n",
    "        return 1\n",
    "    else:\n",
    "        return 0\n",
    "def Jun(month):\n",
    "    if month == 'Jun':\n",
    "        return 1\n",
    "    else:\n",
    "        return 0\n",
    "def Jul(month):\n",
    "    if month == 'Jul':\n",
    "        return 1\n",
    "    else:\n",
    "        return 0\n",
    "def Aug(month):\n",
    "    if month == 'Aug':\n",
    "        return 1\n",
    "    else:\n",
    "        return 0\n",
    "def Sep(month):\n",
    "    if month == 'Sep':\n",
    "        return 1\n",
    "    else:\n",
    "        return 0\n",
    "def Oct(month):\n",
    "    if month == 'Oct':\n",
    "        return 1\n",
    "    else:\n",
    "        return 0\n",
    "def Nov(month):\n",
    "    if month == 'Nov':\n",
    "        return 1\n",
    "    else:\n",
    "        return 0\n",
    "def Dec(month):\n",
    "    if month == 'Dec':\n",
    "        return 1\n",
    "    else:\n",
    "        return 0"
   ]
  },
  {
   "cell_type": "code",
   "execution_count": 198,
   "id": "arabic-tuner",
   "metadata": {},
   "outputs": [],
   "source": [
    "def normal_simulation(mean, stddev, N):\n",
    "    return np.random.normal(mean, stddev, N)\n",
    "\n",
    "def e(var):\n",
    "    return normal_simulation(0, np.sqrt(var), 1)[0]\n",
    "\n",
    "def ortho(X):\n",
    "    # p8 -> cubic\n",
    "    # p1, p7, p37 -> linear\n",
    "    des_mat = np.zeros(38)\n",
    "    des_mat[1] = 2\n",
    "    des_mat[7] = 3\n",
    "    des_mat[8] = 4\n",
    "    des_mat[37] = 2\n",
    "    design_matrix = np.array([ X[0], X[1], X[2], X[3], X[4], X[5], X[6], X[7]**2, X[8], X[9], X[10], X[11],\n",
    "                     X[12], X[13], X[14], X[15], X[16], X[17], X[18], X[19], X[20], X[21], X[22], X[23], X[24],\n",
    "                     X[25], Jan(X[26]), Feb(X[26]), Mar(X[26]), Apr(X[26]), May(X[26]), Jun(X[26]), Jul(X[26]),\n",
    "                     Aug(X[26]), Sep(X[26]), Oct(X[26]), Nov(X[26]), Dec(X[26]) ])\n",
    "    return design_matrix.dot(des_mat) + e(4)\n",
    "\n",
    "def corr(X):\n",
    "    # p1 -> X[1]*Dec(X[26])\n",
    "    # p7 -> X[23]*X[24]\n",
    "    des_mat = np.zeros(38)\n",
    "    des_mat[1] = 2\n",
    "    des_mat[7] = 3\n",
    "    design_matrix = np.array([ X[0], (X[1]**3)*Dec(X[26]), X[2], X[3], X[4], X[5], X[6], (X[23]*X[24])**2, X[8], X[9], X[10], X[11],\n",
    "                     X[12], X[13], X[14], X[15], X[16], X[17], X[18], X[19], X[20], X[21], X[22], X[23], X[24],\n",
    "                     X[25], Jan(X[26]), Feb(X[26]), Mar(X[26]), Apr(X[26]), May(X[26]), Jun(X[26]), Jul(X[26]),\n",
    "                     Aug(X[26]), Sep(X[26]), Oct(X[26]), Nov(X[26]), Dec(X[26]) ])\n",
    "    return design_matrix.dot(des_mat) + e(1)\n"
   ]
  },
  {
   "cell_type": "code",
   "execution_count": 199,
   "id": "paperback-wilson",
   "metadata": {},
   "outputs": [],
   "source": [
    "def generate_data(N, f, file):\n",
    "    p = 26\n",
    "    scale = 100\n",
    "    width = 100\n",
    "\n",
    "    df = pd.DataFrame(np.random.uniform(-width,width,size = (N,p))/scale,columns= list('ABCDEFGHIJKLMNOPQRSTUVWXYZ'))\n",
    "    import random\n",
    "    all_months = ['Jan','Feb','Mar','Apr','May','Jun','Jul','Aug','Sept','Oct','Nov','Dec']\n",
    "    df['month'] = [random.choice(all_months) for _ in range(N)]\n",
    "\n",
    "    X = df.to_numpy()\n",
    "    df['y'] = [f(np.array(x)) for x in X]\n",
    "    df.to_csv(file, index=False)\n",
    "\n",
    "def generate_dataset(f, name):\n",
    "    generate_data(20, f, 'data/{}/n_lt_p.csv'.format(name))\n",
    "    generate_data(40, f, 'data/{}/n_eq_p.csv'.format(name))\n",
    "    generate_data(80, f, 'data/{}/n_gt_p.csv'.format(name))\n",
    "    generate_data(10000, f, 'data/{}/test.csv'.format(name))"
   ]
  },
  {
   "cell_type": "code",
   "execution_count": 200,
   "id": "fallen-austin",
   "metadata": {},
   "outputs": [
    {
     "name": "stdout",
     "output_type": "stream",
     "text": [
      "done\n"
     ]
    }
   ],
   "source": [
    "generate_dataset(ortho, 'ortho')\n",
    "generate_dataset(corr, 'corr')\n",
    "print(\"done\")"
   ]
  },
  {
   "cell_type": "code",
   "execution_count": null,
   "id": "cross-status",
   "metadata": {},
   "outputs": [],
   "source": []
  }
 ],
 "metadata": {
  "kernelspec": {
   "display_name": "Python 3",
   "language": "python",
   "name": "python3"
  },
  "language_info": {
   "codemirror_mode": {
    "name": "ipython",
    "version": 3
   },
   "file_extension": ".py",
   "mimetype": "text/x-python",
   "name": "python",
   "nbconvert_exporter": "python",
   "pygments_lexer": "ipython3",
   "version": "3.8.2"
  }
 },
 "nbformat": 4,
 "nbformat_minor": 5
}
