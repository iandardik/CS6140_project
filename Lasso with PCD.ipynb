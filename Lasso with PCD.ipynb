{
 "cells": [
  {
   "cell_type": "code",
   "execution_count": 12,
   "id": "driving-auction",
   "metadata": {},
   "outputs": [],
   "source": [
    "from numpy import mean\n",
    "from numpy import std\n",
    "from numpy import absolute\n",
    "from pandas import read_csv\n",
    "from sklearn.model_selection import cross_val_score\n",
    "from sklearn.model_selection import RepeatedKFold\n",
    "from sklearn.linear_model import Lasso\n",
    "from matplotlib import pyplot as plt\n",
    "from sklearn import linear_model\n",
    "from numpy import arange\n",
    "from sklearn.linear_model import LassoCV"
   ]
  },
  {
   "cell_type": "code",
   "execution_count": 2,
   "id": "heard-record",
   "metadata": {},
   "outputs": [
    {
     "name": "stdout",
     "output_type": "stream",
     "text": [
      "(100, 40)\n"
     ]
    },
    {
     "data": {
      "text/html": [
       "<div>\n",
       "<style scoped>\n",
       "    .dataframe tbody tr th:only-of-type {\n",
       "        vertical-align: middle;\n",
       "    }\n",
       "\n",
       "    .dataframe tbody tr th {\n",
       "        vertical-align: top;\n",
       "    }\n",
       "\n",
       "    .dataframe thead th {\n",
       "        text-align: right;\n",
       "    }\n",
       "</style>\n",
       "<table border=\"1\" class=\"dataframe\">\n",
       "  <thead>\n",
       "    <tr style=\"text-align: right;\">\n",
       "      <th></th>\n",
       "      <th>0</th>\n",
       "      <th>1</th>\n",
       "      <th>2</th>\n",
       "      <th>3</th>\n",
       "      <th>4</th>\n",
       "      <th>5</th>\n",
       "      <th>6</th>\n",
       "      <th>7</th>\n",
       "      <th>8</th>\n",
       "      <th>9</th>\n",
       "      <th>...</th>\n",
       "      <th>30</th>\n",
       "      <th>31</th>\n",
       "      <th>32</th>\n",
       "      <th>33</th>\n",
       "      <th>34</th>\n",
       "      <th>35</th>\n",
       "      <th>36</th>\n",
       "      <th>37</th>\n",
       "      <th>38</th>\n",
       "      <th>39</th>\n",
       "    </tr>\n",
       "  </thead>\n",
       "  <tbody>\n",
       "    <tr>\n",
       "      <th>0</th>\n",
       "      <td>37.550697</td>\n",
       "      <td>54.162910</td>\n",
       "      <td>78.000646</td>\n",
       "      <td>78.315777</td>\n",
       "      <td>99.518017</td>\n",
       "      <td>51.340211</td>\n",
       "      <td>96.020152</td>\n",
       "      <td>1.469290</td>\n",
       "      <td>35.932348</td>\n",
       "      <td>34.065767</td>\n",
       "      <td>...</td>\n",
       "      <td>0</td>\n",
       "      <td>0</td>\n",
       "      <td>0</td>\n",
       "      <td>0</td>\n",
       "      <td>0</td>\n",
       "      <td>0</td>\n",
       "      <td>0</td>\n",
       "      <td>0</td>\n",
       "      <td>0</td>\n",
       "      <td>0.527727</td>\n",
       "    </tr>\n",
       "    <tr>\n",
       "      <th>1</th>\n",
       "      <td>36.715044</td>\n",
       "      <td>36.865510</td>\n",
       "      <td>22.948168</td>\n",
       "      <td>40.278610</td>\n",
       "      <td>19.516831</td>\n",
       "      <td>56.398177</td>\n",
       "      <td>66.841060</td>\n",
       "      <td>14.881940</td>\n",
       "      <td>55.227367</td>\n",
       "      <td>86.604332</td>\n",
       "      <td>...</td>\n",
       "      <td>0</td>\n",
       "      <td>0</td>\n",
       "      <td>0</td>\n",
       "      <td>0</td>\n",
       "      <td>0</td>\n",
       "      <td>0</td>\n",
       "      <td>0</td>\n",
       "      <td>0</td>\n",
       "      <td>0</td>\n",
       "      <td>1.231863</td>\n",
       "    </tr>\n",
       "    <tr>\n",
       "      <th>2</th>\n",
       "      <td>27.731757</td>\n",
       "      <td>25.197732</td>\n",
       "      <td>7.256232</td>\n",
       "      <td>44.758872</td>\n",
       "      <td>87.213735</td>\n",
       "      <td>85.460310</td>\n",
       "      <td>94.855006</td>\n",
       "      <td>54.048071</td>\n",
       "      <td>3.064264</td>\n",
       "      <td>73.026991</td>\n",
       "      <td>...</td>\n",
       "      <td>0</td>\n",
       "      <td>0</td>\n",
       "      <td>0</td>\n",
       "      <td>0</td>\n",
       "      <td>0</td>\n",
       "      <td>0</td>\n",
       "      <td>0</td>\n",
       "      <td>0</td>\n",
       "      <td>0</td>\n",
       "      <td>0.025010</td>\n",
       "    </tr>\n",
       "    <tr>\n",
       "      <th>3</th>\n",
       "      <td>74.328620</td>\n",
       "      <td>31.351556</td>\n",
       "      <td>5.640941</td>\n",
       "      <td>56.879810</td>\n",
       "      <td>70.385267</td>\n",
       "      <td>20.778855</td>\n",
       "      <td>71.294869</td>\n",
       "      <td>44.557759</td>\n",
       "      <td>14.972031</td>\n",
       "      <td>77.350946</td>\n",
       "      <td>...</td>\n",
       "      <td>0</td>\n",
       "      <td>0</td>\n",
       "      <td>0</td>\n",
       "      <td>0</td>\n",
       "      <td>0</td>\n",
       "      <td>0</td>\n",
       "      <td>0</td>\n",
       "      <td>0</td>\n",
       "      <td>0</td>\n",
       "      <td>0.109302</td>\n",
       "    </tr>\n",
       "    <tr>\n",
       "      <th>4</th>\n",
       "      <td>64.893160</td>\n",
       "      <td>19.446318</td>\n",
       "      <td>28.512706</td>\n",
       "      <td>6.727051</td>\n",
       "      <td>64.921419</td>\n",
       "      <td>96.057769</td>\n",
       "      <td>51.084607</td>\n",
       "      <td>11.904422</td>\n",
       "      <td>25.806985</td>\n",
       "      <td>79.019423</td>\n",
       "      <td>...</td>\n",
       "      <td>0</td>\n",
       "      <td>0</td>\n",
       "      <td>0</td>\n",
       "      <td>0</td>\n",
       "      <td>0</td>\n",
       "      <td>0</td>\n",
       "      <td>0</td>\n",
       "      <td>0</td>\n",
       "      <td>0</td>\n",
       "      <td>0.273861</td>\n",
       "    </tr>\n",
       "  </tbody>\n",
       "</table>\n",
       "<p>5 rows × 40 columns</p>\n",
       "</div>"
      ],
      "text/plain": [
       "          0          1          2          3          4          5   \\\n",
       "0  37.550697  54.162910  78.000646  78.315777  99.518017  51.340211   \n",
       "1  36.715044  36.865510  22.948168  40.278610  19.516831  56.398177   \n",
       "2  27.731757  25.197732   7.256232  44.758872  87.213735  85.460310   \n",
       "3  74.328620  31.351556   5.640941  56.879810  70.385267  20.778855   \n",
       "4  64.893160  19.446318  28.512706   6.727051  64.921419  96.057769   \n",
       "\n",
       "          6          7          8          9   ...  30  31  32  33  34  35  \\\n",
       "0  96.020152   1.469290  35.932348  34.065767  ...   0   0   0   0   0   0   \n",
       "1  66.841060  14.881940  55.227367  86.604332  ...   0   0   0   0   0   0   \n",
       "2  94.855006  54.048071   3.064264  73.026991  ...   0   0   0   0   0   0   \n",
       "3  71.294869  44.557759  14.972031  77.350946  ...   0   0   0   0   0   0   \n",
       "4  51.084607  11.904422  25.806985  79.019423  ...   0   0   0   0   0   0   \n",
       "\n",
       "   36  37  38        39  \n",
       "0   0   0   0  0.527727  \n",
       "1   0   0   0  1.231863  \n",
       "2   0   0   0  0.025010  \n",
       "3   0   0   0  0.109302  \n",
       "4   0   0   0  0.273861  \n",
       "\n",
       "[5 rows x 40 columns]"
      ]
     },
     "execution_count": 2,
     "metadata": {},
     "output_type": "execute_result"
    }
   ],
   "source": [
    "dataframe = read_csv('frst26.csv', header = None,nrows= 100)\n",
    "print(dataframe.shape)\n",
    "dataframe.head()"
   ]
  },
  {
   "cell_type": "code",
   "execution_count": 3,
   "id": "robust-shopper",
   "metadata": {},
   "outputs": [],
   "source": [
    "data = dataframe.values\n",
    "X, y = data[:, :-1], data[:, -1]"
   ]
  },
  {
   "cell_type": "code",
   "execution_count": 4,
   "id": "every-latest",
   "metadata": {},
   "outputs": [
    {
     "name": "stderr",
     "output_type": "stream",
     "text": [
      "c:\\users\\heeru\\appdata\\local\\programs\\python\\python39\\lib\\site-packages\\sklearn\\utils\\validation.py:70: FutureWarning: Pass eps=5e-05 as keyword args. From version 1.0 (renaming of 0.25) passing these as positional arguments will result in an error\n",
      "  warnings.warn(f\"Pass {args_msg} as keyword args. From version \"\n"
     ]
    }
   ],
   "source": [
    "eps = 5e-5 \n",
    "alphas_lasso, coefs_lasso, _= linear_model.lasso_path(X, y, eps, fit_intercept=False)"
   ]
  },
  {
   "cell_type": "code",
   "execution_count": 5,
   "id": "unlimited-computer",
   "metadata": {},
   "outputs": [],
   "source": [
    "df = read_csv('frst26.csv',header = None)\n",
    "data2 = dataframe.values\n",
    "X_2, y_2 = data2[:, :-1], data2[:, -1]"
   ]
  },
  {
   "cell_type": "code",
   "execution_count": 14,
   "id": "after-accident",
   "metadata": {},
   "outputs": [
    {
     "name": "stderr",
     "output_type": "stream",
     "text": [
      "c:\\users\\heeru\\appdata\\local\\programs\\python\\python39\\lib\\site-packages\\sklearn\\linear_model\\_coordinate_descent.py:526: UserWarning: Coordinate descent with alpha=0 may lead to unexpected results and is discouraged.\n",
      "  model = cd_fast.enet_coordinate_descent_gram(\n",
      "c:\\users\\heeru\\appdata\\local\\programs\\python\\python39\\lib\\site-packages\\sklearn\\linear_model\\_coordinate_descent.py:526: UserWarning: Coordinate descent with alpha=0 may lead to unexpected results and is discouraged.\n",
      "  model = cd_fast.enet_coordinate_descent_gram(\n",
      "c:\\users\\heeru\\appdata\\local\\programs\\python\\python39\\lib\\site-packages\\sklearn\\linear_model\\_coordinate_descent.py:526: UserWarning: Coordinate descent with alpha=0 may lead to unexpected results and is discouraged.\n",
      "  model = cd_fast.enet_coordinate_descent_gram(\n",
      "c:\\users\\heeru\\appdata\\local\\programs\\python\\python39\\lib\\site-packages\\sklearn\\linear_model\\_coordinate_descent.py:526: ConvergenceWarning: Objective did not converge. You might want to increase the number of iterations. Duality gap: 2.3874398207756258, tolerance: 0.010157177319214098\n",
      "  model = cd_fast.enet_coordinate_descent_gram(\n",
      "c:\\users\\heeru\\appdata\\local\\programs\\python\\python39\\lib\\site-packages\\sklearn\\linear_model\\_coordinate_descent.py:526: ConvergenceWarning: Objective did not converge. You might want to increase the number of iterations. Duality gap: 2.3834400049503444, tolerance: 0.010218134978666698\n",
      "  model = cd_fast.enet_coordinate_descent_gram(\n",
      "c:\\users\\heeru\\appdata\\local\\programs\\python\\python39\\lib\\site-packages\\sklearn\\linear_model\\_coordinate_descent.py:526: ConvergenceWarning: Objective did not converge. You might want to increase the number of iterations. Duality gap: 2.7006337750498943, tolerance: 0.010753896182925961\n",
      "  model = cd_fast.enet_coordinate_descent_gram(\n",
      "c:\\users\\heeru\\appdata\\local\\programs\\python\\python39\\lib\\site-packages\\sklearn\\linear_model\\_coordinate_descent.py:526: UserWarning: Coordinate descent with alpha=0 may lead to unexpected results and is discouraged.\n",
      "  model = cd_fast.enet_coordinate_descent_gram(\n",
      "c:\\users\\heeru\\appdata\\local\\programs\\python\\python39\\lib\\site-packages\\sklearn\\linear_model\\_coordinate_descent.py:526: ConvergenceWarning: Objective did not converge. You might want to increase the number of iterations. Duality gap: 2.4693580788515277, tolerance: 0.010112211288619067\n",
      "  model = cd_fast.enet_coordinate_descent_gram(\n",
      "c:\\users\\heeru\\appdata\\local\\programs\\python\\python39\\lib\\site-packages\\sklearn\\linear_model\\_coordinate_descent.py:526: UserWarning: Coordinate descent with alpha=0 may lead to unexpected results and is discouraged.\n",
      "  model = cd_fast.enet_coordinate_descent_gram(\n",
      "c:\\users\\heeru\\appdata\\local\\programs\\python\\python39\\lib\\site-packages\\sklearn\\linear_model\\_coordinate_descent.py:526: ConvergenceWarning: Objective did not converge. You might want to increase the number of iterations. Duality gap: 2.6783566224407593, tolerance: 0.010021679492423805\n",
      "  model = cd_fast.enet_coordinate_descent_gram(\n",
      "c:\\users\\heeru\\appdata\\local\\programs\\python\\python39\\lib\\site-packages\\sklearn\\linear_model\\_coordinate_descent.py:526: UserWarning: Coordinate descent with alpha=0 may lead to unexpected results and is discouraged.\n",
      "  model = cd_fast.enet_coordinate_descent_gram(\n",
      "c:\\users\\heeru\\appdata\\local\\programs\\python\\python39\\lib\\site-packages\\sklearn\\linear_model\\_coordinate_descent.py:526: UserWarning: Coordinate descent with alpha=0 may lead to unexpected results and is discouraged.\n",
      "  model = cd_fast.enet_coordinate_descent_gram(\n",
      "c:\\users\\heeru\\appdata\\local\\programs\\python\\python39\\lib\\site-packages\\sklearn\\linear_model\\_coordinate_descent.py:526: UserWarning: Coordinate descent with alpha=0 may lead to unexpected results and is discouraged.\n",
      "  model = cd_fast.enet_coordinate_descent_gram(\n",
      "c:\\users\\heeru\\appdata\\local\\programs\\python\\python39\\lib\\site-packages\\sklearn\\linear_model\\_coordinate_descent.py:526: ConvergenceWarning: Objective did not converge. You might want to increase the number of iterations. Duality gap: 2.2094351326866786, tolerance: 0.009934209961161889\n",
      "  model = cd_fast.enet_coordinate_descent_gram(\n",
      "c:\\users\\heeru\\appdata\\local\\programs\\python\\python39\\lib\\site-packages\\sklearn\\linear_model\\_coordinate_descent.py:526: UserWarning: Coordinate descent with alpha=0 may lead to unexpected results and is discouraged.\n",
      "  model = cd_fast.enet_coordinate_descent_gram(\n",
      "c:\\users\\heeru\\appdata\\local\\programs\\python\\python39\\lib\\site-packages\\sklearn\\linear_model\\_coordinate_descent.py:526: ConvergenceWarning: Objective did not converge. You might want to increase the number of iterations. Duality gap: 1.8981563779959174, tolerance: 0.010517592133954442\n",
      "  model = cd_fast.enet_coordinate_descent_gram(\n",
      "c:\\users\\heeru\\appdata\\local\\programs\\python\\python39\\lib\\site-packages\\sklearn\\linear_model\\_coordinate_descent.py:526: ConvergenceWarning: Objective did not converge. You might want to increase the number of iterations. Duality gap: 2.2959433689013906, tolerance: 0.010667322521189376\n",
      "  model = cd_fast.enet_coordinate_descent_gram(\n",
      "c:\\users\\heeru\\appdata\\local\\programs\\python\\python39\\lib\\site-packages\\sklearn\\linear_model\\_coordinate_descent.py:526: ConvergenceWarning: Objective did not converge. You might want to increase the number of iterations. Duality gap: 2.436188999886724, tolerance: 0.010591297168837983\n",
      "  model = cd_fast.enet_coordinate_descent_gram(\n",
      "c:\\users\\heeru\\appdata\\local\\programs\\python\\python39\\lib\\site-packages\\sklearn\\linear_model\\_coordinate_descent.py:526: UserWarning: Coordinate descent with alpha=0 may lead to unexpected results and is discouraged.\n",
      "  model = cd_fast.enet_coordinate_descent_gram(\n",
      "c:\\users\\heeru\\appdata\\local\\programs\\python\\python39\\lib\\site-packages\\sklearn\\linear_model\\_coordinate_descent.py:526: UserWarning: Coordinate descent with alpha=0 may lead to unexpected results and is discouraged.\n",
      "  model = cd_fast.enet_coordinate_descent_gram(\n",
      "c:\\users\\heeru\\appdata\\local\\programs\\python\\python39\\lib\\site-packages\\sklearn\\linear_model\\_coordinate_descent.py:526: ConvergenceWarning: Objective did not converge. You might want to increase the number of iterations. Duality gap: 2.416940060097687, tolerance: 0.01068904498454708\n",
      "  model = cd_fast.enet_coordinate_descent_gram(\n",
      "c:\\users\\heeru\\appdata\\local\\programs\\python\\python39\\lib\\site-packages\\sklearn\\linear_model\\_coordinate_descent.py:526: ConvergenceWarning: Objective did not converge. You might want to increase the number of iterations. Duality gap: 2.479931677459817, tolerance: 0.010187143512216909\n",
      "  model = cd_fast.enet_coordinate_descent_gram(\n",
      "c:\\users\\heeru\\appdata\\local\\programs\\python\\python39\\lib\\site-packages\\sklearn\\linear_model\\_coordinate_descent.py:526: UserWarning: Coordinate descent with alpha=0 may lead to unexpected results and is discouraged.\n",
      "  model = cd_fast.enet_coordinate_descent_gram(\n",
      "c:\\users\\heeru\\appdata\\local\\programs\\python\\python39\\lib\\site-packages\\sklearn\\linear_model\\_coordinate_descent.py:526: ConvergenceWarning: Objective did not converge. You might want to increase the number of iterations. Duality gap: 2.25963568571305, tolerance: 0.010653411996281946\n",
      "  model = cd_fast.enet_coordinate_descent_gram(\n",
      "c:\\users\\heeru\\appdata\\local\\programs\\python\\python39\\lib\\site-packages\\sklearn\\linear_model\\_coordinate_descent.py:526: UserWarning: Coordinate descent with alpha=0 may lead to unexpected results and is discouraged.\n",
      "  model = cd_fast.enet_coordinate_descent_gram(\n",
      "c:\\users\\heeru\\appdata\\local\\programs\\python\\python39\\lib\\site-packages\\sklearn\\linear_model\\_coordinate_descent.py:526: UserWarning: Coordinate descent with alpha=0 may lead to unexpected results and is discouraged.\n",
      "  model = cd_fast.enet_coordinate_descent_gram(\n",
      "c:\\users\\heeru\\appdata\\local\\programs\\python\\python39\\lib\\site-packages\\sklearn\\linear_model\\_coordinate_descent.py:526: UserWarning: Coordinate descent with alpha=0 may lead to unexpected results and is discouraged.\n",
      "  model = cd_fast.enet_coordinate_descent_gram(\n",
      "c:\\users\\heeru\\appdata\\local\\programs\\python\\python39\\lib\\site-packages\\sklearn\\linear_model\\_coordinate_descent.py:526: ConvergenceWarning: Objective did not converge. You might want to increase the number of iterations. Duality gap: 2.3090608380644113, tolerance: 0.009260868360823963\n",
      "  model = cd_fast.enet_coordinate_descent_gram(\n",
      "c:\\users\\heeru\\appdata\\local\\programs\\python\\python39\\lib\\site-packages\\sklearn\\linear_model\\_coordinate_descent.py:526: ConvergenceWarning: Objective did not converge. You might want to increase the number of iterations. Duality gap: 2.4593744942865072, tolerance: 0.010931597037399626\n",
      "  model = cd_fast.enet_coordinate_descent_gram(\n",
      "c:\\users\\heeru\\appdata\\local\\programs\\python\\python39\\lib\\site-packages\\sklearn\\linear_model\\_coordinate_descent.py:526: ConvergenceWarning: Objective did not converge. You might want to increase the number of iterations. Duality gap: 2.2884877185041574, tolerance: 0.01054241623939753\n",
      "  model = cd_fast.enet_coordinate_descent_gram(\n",
      "c:\\users\\heeru\\appdata\\local\\programs\\python\\python39\\lib\\site-packages\\sklearn\\linear_model\\_coordinate_descent.py:526: UserWarning: Coordinate descent with alpha=0 may lead to unexpected results and is discouraged.\n",
      "  model = cd_fast.enet_coordinate_descent_gram(\n",
      "c:\\users\\heeru\\appdata\\local\\programs\\python\\python39\\lib\\site-packages\\sklearn\\linear_model\\_coordinate_descent.py:526: ConvergenceWarning: Objective did not converge. You might want to increase the number of iterations. Duality gap: 2.579738387146733, tolerance: 0.010636096411710655\n",
      "  model = cd_fast.enet_coordinate_descent_gram(\n",
      "c:\\users\\heeru\\appdata\\local\\programs\\python\\python39\\lib\\site-packages\\sklearn\\linear_model\\_coordinate_descent.py:526: UserWarning: Coordinate descent with alpha=0 may lead to unexpected results and is discouraged.\n",
      "  model = cd_fast.enet_coordinate_descent_gram(\n",
      "c:\\users\\heeru\\appdata\\local\\programs\\python\\python39\\lib\\site-packages\\sklearn\\linear_model\\_coordinate_descent.py:526: UserWarning: Coordinate descent with alpha=0 may lead to unexpected results and is discouraged.\n",
      "  model = cd_fast.enet_coordinate_descent_gram(\n",
      "c:\\users\\heeru\\appdata\\local\\programs\\python\\python39\\lib\\site-packages\\sklearn\\linear_model\\_coordinate_descent.py:526: ConvergenceWarning: Objective did not converge. You might want to increase the number of iterations. Duality gap: 2.295915157906933, tolerance: 0.00960172121780498\n",
      "  model = cd_fast.enet_coordinate_descent_gram(\n",
      "c:\\users\\heeru\\appdata\\local\\programs\\python\\python39\\lib\\site-packages\\sklearn\\linear_model\\_coordinate_descent.py:526: ConvergenceWarning: Objective did not converge. You might want to increase the number of iterations. Duality gap: 2.6983170280864073, tolerance: 0.010563255670900934\n",
      "  model = cd_fast.enet_coordinate_descent_gram(\n",
      "c:\\users\\heeru\\appdata\\local\\programs\\python\\python39\\lib\\site-packages\\sklearn\\linear_model\\_coordinate_descent.py:526: UserWarning: Coordinate descent with alpha=0 may lead to unexpected results and is discouraged.\n",
      "  model = cd_fast.enet_coordinate_descent_gram(\n",
      "c:\\users\\heeru\\appdata\\local\\programs\\python\\python39\\lib\\site-packages\\sklearn\\linear_model\\_coordinate_descent.py:526: ConvergenceWarning: Objective did not converge. You might want to increase the number of iterations. Duality gap: 2.5470187005796276, tolerance: 0.009974779909882636\n",
      "  model = cd_fast.enet_coordinate_descent_gram(\n",
      "c:\\users\\heeru\\appdata\\local\\programs\\python\\python39\\lib\\site-packages\\sklearn\\linear_model\\_coordinate_descent.py:526: UserWarning: Coordinate descent with alpha=0 may lead to unexpected results and is discouraged.\n",
      "  model = cd_fast.enet_coordinate_descent_gram(\n",
      "c:\\users\\heeru\\appdata\\local\\programs\\python\\python39\\lib\\site-packages\\sklearn\\linear_model\\_coordinate_descent.py:526: UserWarning: Coordinate descent with alpha=0 may lead to unexpected results and is discouraged.\n",
      "  model = cd_fast.enet_coordinate_descent_gram(\n",
      "c:\\users\\heeru\\appdata\\local\\programs\\python\\python39\\lib\\site-packages\\sklearn\\linear_model\\_coordinate_descent.py:526: ConvergenceWarning: Objective did not converge. You might want to increase the number of iterations. Duality gap: 2.676773929131727, tolerance: 0.011110579578171803\n",
      "  model = cd_fast.enet_coordinate_descent_gram(\n",
      "c:\\users\\heeru\\appdata\\local\\programs\\python\\python39\\lib\\site-packages\\sklearn\\linear_model\\_coordinate_descent.py:526: ConvergenceWarning: Objective did not converge. You might want to increase the number of iterations. Duality gap: 2.078531610765438, tolerance: 0.0104711543442548\n",
      "  model = cd_fast.enet_coordinate_descent_gram(\n"
     ]
    },
    {
     "name": "stderr",
     "output_type": "stream",
     "text": [
      "c:\\users\\heeru\\appdata\\local\\programs\\python\\python39\\lib\\site-packages\\sklearn\\linear_model\\_coordinate_descent.py:526: UserWarning: Coordinate descent with alpha=0 may lead to unexpected results and is discouraged.\n",
      "  model = cd_fast.enet_coordinate_descent_gram(\n",
      "c:\\users\\heeru\\appdata\\local\\programs\\python\\python39\\lib\\site-packages\\sklearn\\linear_model\\_coordinate_descent.py:526: ConvergenceWarning: Objective did not converge. You might want to increase the number of iterations. Duality gap: 2.133151312220434, tolerance: 0.010204431155017879\n",
      "  model = cd_fast.enet_coordinate_descent_gram(\n",
      "c:\\users\\heeru\\appdata\\local\\programs\\python\\python39\\lib\\site-packages\\sklearn\\linear_model\\_coordinate_descent.py:526: UserWarning: Coordinate descent with alpha=0 may lead to unexpected results and is discouraged.\n",
      "  model = cd_fast.enet_coordinate_descent_gram(\n",
      "c:\\users\\heeru\\appdata\\local\\programs\\python\\python39\\lib\\site-packages\\sklearn\\linear_model\\_coordinate_descent.py:526: ConvergenceWarning: Objective did not converge. You might want to increase the number of iterations. Duality gap: 2.7679543082254554, tolerance: 0.010678125608853282\n",
      "  model = cd_fast.enet_coordinate_descent_gram(\n",
      "c:\\users\\heeru\\appdata\\local\\programs\\python\\python39\\lib\\site-packages\\sklearn\\linear_model\\_coordinate_descent.py:526: UserWarning: Coordinate descent with alpha=0 may lead to unexpected results and is discouraged.\n",
      "  model = cd_fast.enet_coordinate_descent_gram(\n",
      "c:\\users\\heeru\\appdata\\local\\programs\\python\\python39\\lib\\site-packages\\sklearn\\linear_model\\_coordinate_descent.py:526: ConvergenceWarning: Objective did not converge. You might want to increase the number of iterations. Duality gap: 2.22942044797, tolerance: 0.010163325000242847\n",
      "  model = cd_fast.enet_coordinate_descent_gram(\n",
      "c:\\users\\heeru\\appdata\\local\\programs\\python\\python39\\lib\\site-packages\\sklearn\\linear_model\\_coordinate_descent.py:526: UserWarning: Coordinate descent with alpha=0 may lead to unexpected results and is discouraged.\n",
      "  model = cd_fast.enet_coordinate_descent_gram(\n",
      "c:\\users\\heeru\\appdata\\local\\programs\\python\\python39\\lib\\site-packages\\sklearn\\linear_model\\_coordinate_descent.py:526: UserWarning: Coordinate descent with alpha=0 may lead to unexpected results and is discouraged.\n",
      "  model = cd_fast.enet_coordinate_descent_gram(\n",
      "c:\\users\\heeru\\appdata\\local\\programs\\python\\python39\\lib\\site-packages\\sklearn\\linear_model\\_coordinate_descent.py:526: UserWarning: Coordinate descent with alpha=0 may lead to unexpected results and is discouraged.\n",
      "  model = cd_fast.enet_coordinate_descent_gram(\n",
      "c:\\users\\heeru\\appdata\\local\\programs\\python\\python39\\lib\\site-packages\\sklearn\\linear_model\\_coordinate_descent.py:526: ConvergenceWarning: Objective did not converge. You might want to increase the number of iterations. Duality gap: 2.5456685162230173, tolerance: 0.01070118101477635\n",
      "  model = cd_fast.enet_coordinate_descent_gram(\n",
      "c:\\users\\heeru\\appdata\\local\\programs\\python\\python39\\lib\\site-packages\\sklearn\\linear_model\\_coordinate_descent.py:526: ConvergenceWarning: Objective did not converge. You might want to increase the number of iterations. Duality gap: 2.442036363768352, tolerance: 0.010435276309725027\n",
      "  model = cd_fast.enet_coordinate_descent_gram(\n",
      "c:\\users\\heeru\\appdata\\local\\programs\\python\\python39\\lib\\site-packages\\sklearn\\linear_model\\_coordinate_descent.py:526: ConvergenceWarning: Objective did not converge. You might want to increase the number of iterations. Duality gap: 2.6315750245445457, tolerance: 0.010812588929704374\n",
      "  model = cd_fast.enet_coordinate_descent_gram(\n",
      "c:\\users\\heeru\\appdata\\local\\programs\\python\\python39\\lib\\site-packages\\sklearn\\linear_model\\_coordinate_descent.py:526: UserWarning: Coordinate descent with alpha=0 may lead to unexpected results and is discouraged.\n",
      "  model = cd_fast.enet_coordinate_descent_gram(\n",
      "c:\\users\\heeru\\appdata\\local\\programs\\python\\python39\\lib\\site-packages\\sklearn\\linear_model\\_coordinate_descent.py:526: UserWarning: Coordinate descent with alpha=0 may lead to unexpected results and is discouraged.\n",
      "  model = cd_fast.enet_coordinate_descent_gram(\n",
      "c:\\users\\heeru\\appdata\\local\\programs\\python\\python39\\lib\\site-packages\\sklearn\\linear_model\\_coordinate_descent.py:526: ConvergenceWarning: Objective did not converge. You might want to increase the number of iterations. Duality gap: 2.316595456305407, tolerance: 0.01028290626259582\n",
      "  model = cd_fast.enet_coordinate_descent_gram(\n",
      "c:\\users\\heeru\\appdata\\local\\programs\\python\\python39\\lib\\site-packages\\sklearn\\linear_model\\_coordinate_descent.py:526: ConvergenceWarning: Objective did not converge. You might want to increase the number of iterations. Duality gap: 2.7083163847131715, tolerance: 0.010534530188761604\n",
      "  model = cd_fast.enet_coordinate_descent_gram(\n",
      "c:\\users\\heeru\\appdata\\local\\programs\\python\\python39\\lib\\site-packages\\sklearn\\linear_model\\_coordinate_descent.py:526: UserWarning: Coordinate descent with alpha=0 may lead to unexpected results and is discouraged.\n",
      "  model = cd_fast.enet_coordinate_descent_gram(\n",
      "c:\\users\\heeru\\appdata\\local\\programs\\python\\python39\\lib\\site-packages\\sklearn\\linear_model\\_coordinate_descent.py:526: ConvergenceWarning: Objective did not converge. You might want to increase the number of iterations. Duality gap: 2.1624030346870313, tolerance: 0.009653876586240184\n",
      "  model = cd_fast.enet_coordinate_descent_gram(\n"
     ]
    },
    {
     "name": "stdout",
     "output_type": "stream",
     "text": [
      "0.0937672165474033\n"
     ]
    }
   ],
   "source": [
    "cv3 = RepeatedKFold(n_splits=10, n_repeats=3, random_state=1)\n",
    "model3 = LassoCV(alphas=arange(0, 1, 0.01), cv=cv3, n_jobs=-1)\n",
    "model3.fit(X, y)\n",
    "scores = cross_val_score(model3, X, y, scoring='neg_mean_squared_error', cv=cv3, n_jobs=-1)\n",
    "scores = absolute(scores)\n",
    "print(mean(scores))"
   ]
  },
  {
   "cell_type": "code",
   "execution_count": 10,
   "id": "comparable-audience",
   "metadata": {},
   "outputs": [
    {
     "name": "stdout",
     "output_type": "stream",
     "text": [
      "alpha: 0.990000\n"
     ]
    }
   ],
   "source": [
    "yhat3 = model3.predict(X_2)\n",
    "\n",
    "print('alpha: %f' % model3.alpha_)"
   ]
  },
  {
   "cell_type": "code",
   "execution_count": 13,
   "id": "drawn-thumb",
   "metadata": {},
   "outputs": [
    {
     "data": {
      "image/png": "[encoded data removed]",
      "text/plain": [
       "<Figure size 432x288 with 1 Axes>"
      ]
     },
     "metadata": {
      "needs_background": "light"
     },
     "output_type": "display_data"
    }
   ],
   "source": [
    "fig = plt.figure()\n",
    "ax = fig.add_subplot(111)\n",
    "ax.set_ylim(-0.008, 0.04)\n",
    "m,n = X.shape\n",
    "for i in range(n):\n",
    "    plt.plot(alphas_lasso, coefs_lasso[i])\n",
    "    #print(coefs_lasso[i])\n",
    "    "
   ]
  },
  {
   "cell_type": "code",
   "execution_count": 27,
   "id": "governmental-penetration",
   "metadata": {},
   "outputs": [
    {
     "name": "stdout",
     "output_type": "stream",
     "text": [
      "2.5994458566220274e-11\n"
     ]
    }
   ],
   "source": [
    "scores = cross_val_score(model3,  X_2, yhat3, scoring='neg_mean_squared_error', cv=cv3, n_jobs=-1)\n",
    "scores = absolute(scores)\n",
    "print(mean(scores))"
   ]
  },
  {
   "cell_type": "code",
   "execution_count": 30,
   "id": "explicit-denver",
   "metadata": {},
   "outputs": [
    {
     "name": "stdout",
     "output_type": "stream",
     "text": [
      "0.07972571068507979\n"
     ]
    }
   ],
   "source": [
    "from sklearn.metrics import mean_squared_error as mse\n",
    "mse = mse(yhat3,y_2)\n",
    "print(mse)"
   ]
  }
 ],
 "metadata": {
  "kernelspec": {
   "display_name": "Python 3",
   "language": "python",
   "name": "python3"
  },
  "language_info": {
   "codemirror_mode": {
    "name": "ipython",
    "version": 3
   },
   "file_extension": ".py",
   "mimetype": "text/x-python",
   "name": "python",
   "nbconvert_exporter": "python",
   "pygments_lexer": "ipython3",
   "version": "3.9.1"
  }
 },
 "nbformat": 4,
 "nbformat_minor": 5
}
