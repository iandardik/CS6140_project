{
 "cells": [
  {
   "cell_type": "code",
   "execution_count": 99,
   "id": "affiliated-conflict",
   "metadata": {},
   "outputs": [],
   "source": [
    "from numpy import mean\n",
    "from numpy import std\n",
    "from numpy import absolute\n",
    "from pandas import read_csv\n",
    "from sklearn.model_selection import cross_val_score\n",
    "from sklearn.model_selection import RepeatedKFold\n",
    "from sklearn.linear_model import Lasso\n",
    "from matplotlib import pyplot as plt\n",
    "from sklearn import linear_model\n",
    "from numpy import arange\n",
    "from sklearn.linear_model import LassoCV\n",
    "import pandas as pd\n",
    "import numpy as np"
   ]
  },
  {
   "cell_type": "code",
   "execution_count": 100,
   "id": "logical-pencil",
   "metadata": {},
   "outputs": [],
   "source": [
    "def read_data(fname):\n",
    "    data = pd.read_csv(fname)\n",
    "    x_data = np.array([ row[0:-1] for row in data.values])\n",
    "    y_data = np.array([ row[-1] for row in data.values])\n",
    "    return x_data, y_data\n",
    "\n",
    "def standardize(data):\n",
    "    d_mean = np.mean(data)\n",
    "    d_stddev = np.std(data, ddof=1)\n",
    "    if d_stddev == 0:\n",
    "        return data\n",
    "    return np.array([ (d-d_mean)/d_stddev for d in data ])\n",
    "\n",
    "months = ['Jan', 'Feb', 'Mar', 'Apr', 'May', 'Jun', 'Jul', 'Aug', 'Sep', 'Oct', 'Nov', 'Dec']\n",
    "def month_indicator(i, month):\n",
    "    midx = np.where(months == month)\n",
    "    return 1 if i == midx else 0\n",
    "\n",
    "def data_design_mat(data):\n",
    "    design = []\n",
    "    for row in data:\n",
    "        numerical = row[0:-1]\n",
    "        month = row[-1]\n",
    "        drow = list(numerical)\n",
    "        for i in range(12):\n",
    "            drow.append(month_indicator(i, month))\n",
    "        design.append(standardize(drow))\n",
    "    return np.array(design)\n",
    "\n",
    "def mse(y, y_hat):\n",
    "    n = y.shape[0]\n",
    "    assert(n == y_hat.shape[0])\n",
    "    assert(len(y.shape) == 1)\n",
    "    assert(len(y_hat.shape) == 1)\n",
    "    return sum([ (yi-yi_hat)**2 for (yi,yi_hat) in zip(y,y_hat) ]) / n\n",
    "\n",
    "def validate(y_data, design, model):\n",
    "    y_hats = np.array([ model @ xi for xi in design ])\n",
    "    return mse(y_data, y_hats)\n",
    "\n",
    "def float_eq(a,b):\n",
    "    return abs(a-b) < 0.001\n",
    "\n",
    "def test_file(folder, file):\n",
    "    X, y = read_data('data/{}/{}'.format(folder,file))\n",
    "    X = data_design_mat(X)\n",
    "\n",
    "    eps = 5e-5 \n",
    "    lambdas, coeffs, _= linear_model.lasso_path(X, y, eps=5e-05, fit_intercept=False)\n",
    "    coeffs = coeffs.T\n",
    "    #for i in reversed(range(lambdas.shape[0])):\n",
    "    #    if all([float_eq(c,0.) for c in coeffs[i]]):\n",
    "    #        coeffs = np.delete(coeffs, [i], axis=0)\n",
    "    #        lambdas = np.delete(lambdas, [i], axis=0)\n",
    "\n",
    "    # we give the library impl's the benefit of the doubt and choose the lowest TEST mse\n",
    "    X_test, y_test = read_data('data/{}/test.csv'.format(folder))\n",
    "    X_test = data_design_mat(X_test)\n",
    "    mses = []\n",
    "    for model in coeffs:\n",
    "        mses.append(validate(y_test, X_test, model))\n",
    "\n",
    "    best_idx = np.argmin(mses)\n",
    "    print(\"{}/{} test\".format(folder,file))\n",
    "    print(\"best mse: {}\".format(mses[best_idx]))\n",
    "    #print(\"best model: {}\".format(coeffs[best_idx]))\n",
    "\n",
    "    best_model = coeffs[best_idx]\n",
    "    best_params = []\n",
    "    for i,c in enumerate(best_model):\n",
    "        if not float_eq(c,0):\n",
    "            best_params.append(i)\n",
    "    print(\"best_params: {}\".format(best_params))\n",
    "    print()"
   ]
  },
  {
   "cell_type": "code",
   "execution_count": 101,
   "id": "killing-ottawa",
   "metadata": {},
   "outputs": [
    {
     "name": "stdout",
     "output_type": "stream",
     "text": [
      "ortho/n_lt_p.csv test\n",
      "best mse: 8.149840460199352\n",
      "best_params: [1, 4, 5, 8, 9, 11]\n",
      "\n",
      "ortho/n_eq_p.csv test\n",
      "best mse: 6.933299639115785\n",
      "best_params: [1, 2, 6, 8, 14]\n",
      "\n",
      "ortho/n_gt_p.csv test\n",
      "best mse: 7.554553029571514\n",
      "best_params: [1, 4, 7, 8, 13, 20]\n",
      "\n"
     ]
    }
   ],
   "source": [
    "folder = 'ortho'\n",
    "test_file(folder, 'n_lt_p.csv')\n",
    "test_file(folder, 'n_eq_p.csv')\n",
    "test_file(folder, 'n_gt_p.csv')"
   ]
  },
  {
   "cell_type": "code",
   "execution_count": 102,
   "id": "copyrighted-bradford",
   "metadata": {},
   "outputs": [
    {
     "name": "stdout",
     "output_type": "stream",
     "text": [
      "corr/n_lt_p.csv test\n",
      "best mse: 1.4160738183074826\n",
      "best_params: []\n",
      "\n",
      "corr/n_eq_p.csv test\n",
      "best mse: 1.4160346628567504\n",
      "best_params: [14]\n",
      "\n",
      "corr/n_gt_p.csv test\n",
      "best mse: 1.4160738183074826\n",
      "best_params: []\n",
      "\n"
     ]
    }
   ],
   "source": [
    "folder = 'corr'\n",
    "test_file(folder, 'n_lt_p.csv')\n",
    "test_file(folder, 'n_eq_p.csv')\n",
    "test_file(folder, 'n_gt_p.csv')"
   ]
  },
  {
   "cell_type": "code",
   "execution_count": null,
   "id": "alone-transmission",
   "metadata": {},
   "outputs": [],
   "source": []
  }
 ],
 "metadata": {
  "kernelspec": {
   "display_name": "Python 3",
   "language": "python",
   "name": "python3"
  },
  "language_info": {
   "codemirror_mode": {
    "name": "ipython",
    "version": 3
   },
   "file_extension": ".py",
   "mimetype": "text/x-python",
   "name": "python",
   "nbconvert_exporter": "python",
   "pygments_lexer": "ipython3",
   "version": "3.8.2"
  }
 },
 "nbformat": 4,
 "nbformat_minor": 5
}
